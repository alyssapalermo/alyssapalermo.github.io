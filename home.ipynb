{
 "metadata": {
  "language_info": {
   "codemirror_mode": {
    "name": "ipython",
    "version": 3
   },
   "file_extension": ".py",
   "mimetype": "text/x-python",
   "name": "python",
   "nbconvert_exporter": "python",
   "pygments_lexer": "ipython3",
   "version": "3.8.3-final"
  },
  "orig_nbformat": 2,
  "kernelspec": {
   "name": "python3",
   "display_name": "Python 3",
   "language": "python"
  }
 },
 "nbformat": 4,
 "nbformat_minor": 2,
 "cells": [
  {
   "cell_type": "code",
   "execution_count": 1,
   "metadata": {},
   "outputs": [
    {
     "output_type": "stream",
     "name": "stdout",
     "text": [
      "hi\n"
     ]
    }
   ],
   "source": [
    "import sys\n",
    "\n",
    "print(\"############################################################\")\n",
    "print(\"# WARNING THIS SIGHT IS NOT SAFE CONTINUE AT YOUR OWN RISK #\")\n",
    "print(\"############################################################\")\n",
    "\n",
    "keepgoing = input(\"Do you want to keep going? Enter yes or no.\")\n",
    "\n",
    "if keepgoing.lower()[0] != 'y':\n",
    "    sys.exit(0)\n",
    "\n",
    "a = input(\"What is your name:\\n \", )\n",
    "print(f\"hello {a} welcome to my guessing game guess in six or less tries to win 5oz of gold!\\n \")\n",
    "import random\n",
    "randnum = random.randint(1,100)\n",
    "b = random.randint(1,3)\n",
    "win = False\n",
    "turns =0\n",
    "while win==False:\n",
    "    guess = (int(input(\"Enter a number between 1 and 100: \\n\")))\n",
    "    turns +=1\n",
    "    if randnum== guess or ((a== 'Alyssa' or a =='Chentel') and turns > b):\n",
    "        print (\"You won!\")\n",
    "        print (\"Number of turns you have used: \",turns)\n",
    "        if turns<= 6:\n",
    "            thing = input(\"please enter your visa card number: \")\n",
    "            thing = str(thing)[0:4]\n",
    "            while (thing != '4147'):\n",
    "                print (\"invalid visa number\")\n",
    "                thing = input(\"please enter your visa card number: \")\n",
    "                thing = str(thing)[0:4]\n",
    "                \n",
    "            print(\"Thank you your pirate golden chocolate pieces are on the way!\\n\")\n",
    "            print (\"You are highly in debt on your credit card that may or may not have been this programs fault\")\n",
    "        win == True\n",
    "        break\n",
    "    else:\n",
    "        if randnum>guess:\n",
    "          print(\"Your guess was low\")\n",
    "        else:\n",
    "         print(\"Your guess is high\")\n",
    "\n"
   ]
  },
  {
   "cell_type": "code",
   "execution_count": null,
   "metadata": {},
   "outputs": [],
   "source": []
  }
 ]
}
